{
 "cells": [
  {
   "cell_type": "markdown",
   "id": "ae9e314a",
   "metadata": {},
   "source": [
    "# _LDA - Wine Classification_\n",
    "## _Importing The Required Libraries & Packages_"
   ]
  },
  {
   "cell_type": "code",
   "execution_count": 1,
   "id": "5ddc310c",
   "metadata": {},
   "outputs": [],
   "source": [
    "import numpy as np\n",
    "import pandas as pd\n",
    "import matplotlib.pyplot as plt\n",
    "import os\n",
    "import seaborn as sns\n",
    "from sklearn.preprocessing import StandardScaler\n",
    "from sklearn.model_selection import train_test_split\n",
    "from sklearn.discriminant_analysis import LinearDiscriminantAnalysis as LDA\n",
    "from sklearn.decomposition import PCA\n",
    "from sklearn.linear_model import LogisticRegression\n",
    "from sklearn.ensemble import RandomForestClassifier,ExtraTreesClassifier\n",
    "from catboost import CatBoostClassifier\n",
    "from lightgbm import LGBMClassifier\n",
    "from sklearn.metrics import accuracy_score,classification_report,confusion_matrix\n",
    "import pickle\n",
    "%matplotlib inline\n",
    "import warnings\n",
    "warnings.filterwarnings('ignore')"
   ]
  },
  {
   "cell_type": "markdown",
   "id": "95864032",
   "metadata": {},
   "source": [
    "**_Changing The Default Working Directory & Path and Reading The Dataset Using Pandas Command_**"
   ]
  },
  {
   "cell_type": "code",
   "execution_count": 2,
   "id": "f33bc2a9",
   "metadata": {},
   "outputs": [
    {
     "data": {
      "text/html": [
       "<div>\n",
       "<style scoped>\n",
       "    .dataframe tbody tr th:only-of-type {\n",
       "        vertical-align: middle;\n",
       "    }\n",
       "\n",
       "    .dataframe tbody tr th {\n",
       "        vertical-align: top;\n",
       "    }\n",
       "\n",
       "    .dataframe thead th {\n",
       "        text-align: right;\n",
       "    }\n",
       "</style>\n",
       "<table border=\"1\" class=\"dataframe\">\n",
       "  <thead>\n",
       "    <tr style=\"text-align: right;\">\n",
       "      <th></th>\n",
       "      <th>Alcohol</th>\n",
       "      <th>Malic_Acid</th>\n",
       "      <th>Ash</th>\n",
       "      <th>Ash_Alcanity</th>\n",
       "      <th>Magnesium</th>\n",
       "      <th>Total_Phenols</th>\n",
       "      <th>Flavanoids</th>\n",
       "      <th>Nonflavanoid_Phenols</th>\n",
       "      <th>Proanthocyanins</th>\n",
       "      <th>Color_Intensity</th>\n",
       "      <th>Hue</th>\n",
       "      <th>OD280</th>\n",
       "      <th>Proline</th>\n",
       "      <th>Customer_Segment</th>\n",
       "    </tr>\n",
       "  </thead>\n",
       "  <tbody>\n",
       "    <tr>\n",
       "      <th>0</th>\n",
       "      <td>14.23</td>\n",
       "      <td>1.71</td>\n",
       "      <td>2.43</td>\n",
       "      <td>15.6</td>\n",
       "      <td>127</td>\n",
       "      <td>2.80</td>\n",
       "      <td>3.06</td>\n",
       "      <td>0.28</td>\n",
       "      <td>2.29</td>\n",
       "      <td>5.64</td>\n",
       "      <td>1.04</td>\n",
       "      <td>3.92</td>\n",
       "      <td>1065</td>\n",
       "      <td>1</td>\n",
       "    </tr>\n",
       "    <tr>\n",
       "      <th>1</th>\n",
       "      <td>13.20</td>\n",
       "      <td>1.78</td>\n",
       "      <td>2.14</td>\n",
       "      <td>11.2</td>\n",
       "      <td>100</td>\n",
       "      <td>2.65</td>\n",
       "      <td>2.76</td>\n",
       "      <td>0.26</td>\n",
       "      <td>1.28</td>\n",
       "      <td>4.38</td>\n",
       "      <td>1.05</td>\n",
       "      <td>3.40</td>\n",
       "      <td>1050</td>\n",
       "      <td>1</td>\n",
       "    </tr>\n",
       "    <tr>\n",
       "      <th>2</th>\n",
       "      <td>13.16</td>\n",
       "      <td>2.36</td>\n",
       "      <td>2.67</td>\n",
       "      <td>18.6</td>\n",
       "      <td>101</td>\n",
       "      <td>2.80</td>\n",
       "      <td>3.24</td>\n",
       "      <td>0.30</td>\n",
       "      <td>2.81</td>\n",
       "      <td>5.68</td>\n",
       "      <td>1.03</td>\n",
       "      <td>3.17</td>\n",
       "      <td>1185</td>\n",
       "      <td>1</td>\n",
       "    </tr>\n",
       "    <tr>\n",
       "      <th>3</th>\n",
       "      <td>14.37</td>\n",
       "      <td>1.95</td>\n",
       "      <td>2.50</td>\n",
       "      <td>16.8</td>\n",
       "      <td>113</td>\n",
       "      <td>3.85</td>\n",
       "      <td>3.49</td>\n",
       "      <td>0.24</td>\n",
       "      <td>2.18</td>\n",
       "      <td>7.80</td>\n",
       "      <td>0.86</td>\n",
       "      <td>3.45</td>\n",
       "      <td>1480</td>\n",
       "      <td>1</td>\n",
       "    </tr>\n",
       "    <tr>\n",
       "      <th>4</th>\n",
       "      <td>13.24</td>\n",
       "      <td>2.59</td>\n",
       "      <td>2.87</td>\n",
       "      <td>21.0</td>\n",
       "      <td>118</td>\n",
       "      <td>2.80</td>\n",
       "      <td>2.69</td>\n",
       "      <td>0.39</td>\n",
       "      <td>1.82</td>\n",
       "      <td>4.32</td>\n",
       "      <td>1.04</td>\n",
       "      <td>2.93</td>\n",
       "      <td>735</td>\n",
       "      <td>1</td>\n",
       "    </tr>\n",
       "  </tbody>\n",
       "</table>\n",
       "</div>"
      ],
      "text/plain": [
       "   Alcohol  Malic_Acid   Ash  Ash_Alcanity  Magnesium  Total_Phenols  \\\n",
       "0    14.23        1.71  2.43          15.6        127           2.80   \n",
       "1    13.20        1.78  2.14          11.2        100           2.65   \n",
       "2    13.16        2.36  2.67          18.6        101           2.80   \n",
       "3    14.37        1.95  2.50          16.8        113           3.85   \n",
       "4    13.24        2.59  2.87          21.0        118           2.80   \n",
       "\n",
       "   Flavanoids  Nonflavanoid_Phenols  Proanthocyanins  Color_Intensity   Hue  \\\n",
       "0        3.06                  0.28             2.29             5.64  1.04   \n",
       "1        2.76                  0.26             1.28             4.38  1.05   \n",
       "2        3.24                  0.30             2.81             5.68  1.03   \n",
       "3        3.49                  0.24             2.18             7.80  0.86   \n",
       "4        2.69                  0.39             1.82             4.32  1.04   \n",
       "\n",
       "   OD280  Proline  Customer_Segment  \n",
       "0   3.92     1065                 1  \n",
       "1   3.40     1050                 1  \n",
       "2   3.17     1185                 1  \n",
       "3   3.45     1480                 1  \n",
       "4   2.93      735                 1  "
      ]
     },
     "execution_count": 2,
     "metadata": {},
     "output_type": "execute_result"
    }
   ],
   "source": [
    "os.chdir('D:\\\\bala\\\\study things\\\\data science\\\\Batch 74 Day 19\\\\Batch 74 Day 19\\\\')\n",
    "df = pd.read_csv('Wine.csv')\n",
    "df.head()"
   ]
  },
  {
   "cell_type": "markdown",
   "id": "9ce82282",
   "metadata": {},
   "source": [
    "## _EDA_\n",
    "**_Checking the Null values of all the Columns in the dataset_**"
   ]
  },
  {
   "cell_type": "code",
   "execution_count": 3,
   "id": "8542e788",
   "metadata": {
    "scrolled": true
   },
   "outputs": [
    {
     "data": {
      "text/plain": [
       "Alcohol                 0\n",
       "Malic_Acid              0\n",
       "Ash                     0\n",
       "Ash_Alcanity            0\n",
       "Magnesium               0\n",
       "Total_Phenols           0\n",
       "Flavanoids              0\n",
       "Nonflavanoid_Phenols    0\n",
       "Proanthocyanins         0\n",
       "Color_Intensity         0\n",
       "Hue                     0\n",
       "OD280                   0\n",
       "Proline                 0\n",
       "Customer_Segment        0\n",
       "dtype: int64"
      ]
     },
     "execution_count": 3,
     "metadata": {},
     "output_type": "execute_result"
    }
   ],
   "source": [
    "df.isnull().sum()"
   ]
  },
  {
   "cell_type": "markdown",
   "id": "a19a17b2",
   "metadata": {},
   "source": [
    "**_Checking the dataset whether its is having a duplicate values or not_**"
   ]
  },
  {
   "cell_type": "code",
   "execution_count": 4,
   "id": "9cfca249",
   "metadata": {},
   "outputs": [
    {
     "data": {
      "text/plain": [
       "0"
      ]
     },
     "execution_count": 4,
     "metadata": {},
     "output_type": "execute_result"
    }
   ],
   "source": [
    "df.duplicated().sum()"
   ]
  },
  {
   "cell_type": "markdown",
   "id": "d0c6f1e3",
   "metadata": {},
   "source": [
    "## _Data Cleaning_\n",
    "**_Getting all the column name from the dataset_**"
   ]
  },
  {
   "cell_type": "code",
   "execution_count": 5,
   "id": "6e91a55a",
   "metadata": {},
   "outputs": [
    {
     "data": {
      "text/plain": [
       "Index(['Alcohol', 'Malic_Acid', 'Ash', 'Ash_Alcanity', 'Magnesium',\n",
       "       'Total_Phenols', 'Flavanoids', 'Nonflavanoid_Phenols',\n",
       "       'Proanthocyanins', 'Color_Intensity', 'Hue', 'OD280', 'Proline',\n",
       "       'Customer_Segment'],\n",
       "      dtype='object')"
      ]
     },
     "execution_count": 5,
     "metadata": {},
     "output_type": "execute_result"
    }
   ],
   "source": [
    "df.columns"
   ]
  },
  {
   "cell_type": "markdown",
   "id": "c981eb6d",
   "metadata": {},
   "source": [
    "**_Renaming the columns for the better readability using customized defined pandas function_**"
   ]
  },
  {
   "cell_type": "code",
   "execution_count": 6,
   "id": "92b60011",
   "metadata": {},
   "outputs": [],
   "source": [
    "def rename_columns(df,col_dict):\n",
    "    return df.rename(columns=col_dict)\n",
    "col_dict = {'Malic_Acid':'Malic Acid','Ash_Alcanity':'Ash Alcanity','Total_Phenols':'Total Phenols',\n",
    "           'Nonflavanoid_Phenols':'Non Flavanoid Phenols','Color_Intensity':'Color Intensity',\n",
    "           'Customer_Segment':'Customer Segment'}\n",
    "df = rename_columns(df,col_dict)"
   ]
  },
  {
   "cell_type": "markdown",
   "id": "65c10360",
   "metadata": {},
   "source": [
    "**_Getting the columns name after renaming to cross check_**"
   ]
  },
  {
   "cell_type": "code",
   "execution_count": 7,
   "id": "b3c4474f",
   "metadata": {},
   "outputs": [
    {
     "data": {
      "text/plain": [
       "Index(['Alcohol', 'Malic Acid', 'Ash', 'Ash Alcanity', 'Magnesium',\n",
       "       'Total Phenols', 'Flavanoids', 'Non Flavanoid Phenols',\n",
       "       'Proanthocyanins', 'Color Intensity', 'Hue', 'OD280', 'Proline',\n",
       "       'Customer Segment'],\n",
       "      dtype='object')"
      ]
     },
     "execution_count": 7,
     "metadata": {},
     "output_type": "execute_result"
    }
   ],
   "source": [
    "df.columns"
   ]
  },
  {
   "cell_type": "markdown",
   "id": "7d21527f",
   "metadata": {},
   "source": [
    "## _Data Visualization_\n",
    "**_Getting the value counts from the target variable_**"
   ]
  },
  {
   "cell_type": "code",
   "execution_count": 8,
   "id": "dffa2d0e",
   "metadata": {
    "scrolled": true
   },
   "outputs": [
    {
     "data": {
      "text/plain": [
       "2    71\n",
       "1    59\n",
       "3    48\n",
       "Name: Customer Segment, dtype: int64"
      ]
     },
     "execution_count": 8,
     "metadata": {},
     "output_type": "execute_result"
    }
   ],
   "source": [
    "df['Customer Segment'].value_counts()"
   ]
  },
  {
   "cell_type": "markdown",
   "id": "56796043",
   "metadata": {},
   "source": [
    "**_Getting the correlation value from all the numeric columns from the independent variable using seaborn Heatmap & saving the PNG file_**"
   ]
  },
  {
   "cell_type": "code",
   "execution_count": 9,
   "id": "1837b39f",
   "metadata": {},
   "outputs": [
    {
     "data": {
      "image/png": "[encoded data removed]",
      "text/plain": [
       "<Figure size 2000x1500 with 2 Axes>"
      ]
     },
     "metadata": {},
     "output_type": "display_data"
    }
   ],
   "source": [
    "plt.rcParams['figure.figsize']=(20,15)\n",
    "corr = df.corr()\n",
    "sns.heatmap(corr,annot=True)\n",
    "plt.title('Correlation Heat Map')\n",
    "plt.savefig('Correlation Heat Map.png')\n",
    "plt.show()"
   ]
  },
  {
   "cell_type": "markdown",
   "id": "2d4fafd9",
   "metadata": {},
   "source": [
    "**_Assigning the dependent and independent variables_**"
   ]
  },
  {
   "cell_type": "code",
   "execution_count": 11,
   "id": "c481e96e",
   "metadata": {},
   "outputs": [],
   "source": [
    "x = df.iloc[:,:-1]\n",
    "y = df.iloc[:,-1]"
   ]
  },
  {
   "cell_type": "markdown",
   "id": "b49356e5",
   "metadata": {},
   "source": [
    "## _Data Preprocessing_\n",
    "**_Standardizing the independent variable_**"
   ]
  },
  {
   "cell_type": "code",
   "execution_count": 12,
   "id": "60ab8cea",
   "metadata": {},
   "outputs": [],
   "source": [
    "sc_x = StandardScaler()\n",
    "x = sc_x.fit_transform(x)"
   ]
  },
  {
   "cell_type": "markdown",
   "id": "dbfc9ade",
   "metadata": {},
   "source": [
    "## _Model Fitting_\n",
    "**_Splitting the dependent and independent variable into training and test dataset using train test split._**"
   ]
  },
  {
   "cell_type": "code",
   "execution_count": 13,
   "id": "92fe38c8",
   "metadata": {},
   "outputs": [],
   "source": [
    "x_train,x_test,y_train,y_test = train_test_split(x,y,test_size=0.2,random_state=15)"
   ]
  },
  {
   "cell_type": "markdown",
   "id": "676d9ef0",
   "metadata": {},
   "source": [
    "**_Fitting the Logistic Regression Model with the dependent train and independent train variable and getting the algorithm,accuracy score,classification report and confusion matrix between the predicted values and dependent test dataset_**"
   ]
  },
  {
   "cell_type": "code",
   "execution_count": 14,
   "id": "3d4c26d6",
   "metadata": {},
   "outputs": [
    {
     "name": "stdout",
     "output_type": "stream",
     "text": [
      "Accuracy Score 100.0%\n",
      "\n",
      " Classification Report               precision    recall  f1-score   support\n",
      "\n",
      "           1       1.00      1.00      1.00        12\n",
      "           2       1.00      1.00      1.00        12\n",
      "           3       1.00      1.00      1.00        12\n",
      "\n",
      "    accuracy                           1.00        36\n",
      "   macro avg       1.00      1.00      1.00        36\n",
      "weighted avg       1.00      1.00      1.00        36\n",
      "\n",
      "\n",
      " Confusion Matrix [[12  0  0]\n",
      " [ 0 12  0]\n",
      " [ 0  0 12]]\n"
     ]
    }
   ],
   "source": [
    "LR = LogisticRegression()\n",
    "LR.fit(x_train,y_train)\n",
    "y_pred = LR.predict(x_test)\n",
    "print('Accuracy Score {}%'.format(100*accuracy_score(y_pred,y_test)))\n",
    "print('\\n Classification Report',classification_report(y_test,y_pred))\n",
    "print('\\n Confusion Matrix',confusion_matrix(y_test,y_pred))"
   ]
  },
  {
   "cell_type": "markdown",
   "id": "87a682a6",
   "metadata": {},
   "source": [
    "**_Fitting the Random Forest Classifier Model with the dependent train and independent train variable and getting the algorithm,accuracy score,classification report and confusion matrix between the predicted values and dependent test dataset_**"
   ]
  },
  {
   "cell_type": "code",
   "execution_count": 15,
   "id": "39ca35d2",
   "metadata": {},
   "outputs": [
    {
     "name": "stdout",
     "output_type": "stream",
     "text": [
      "Accuracy Score 97.22222222222221%\n",
      "\n",
      " Classification Report               precision    recall  f1-score   support\n",
      "\n",
      "           1       1.00      1.00      1.00        12\n",
      "           2       0.92      1.00      0.96        12\n",
      "           3       1.00      0.92      0.96        12\n",
      "\n",
      "    accuracy                           0.97        36\n",
      "   macro avg       0.97      0.97      0.97        36\n",
      "weighted avg       0.97      0.97      0.97        36\n",
      "\n",
      "\n",
      " Confusion Matrix [[12  0  0]\n",
      " [ 0 12  0]\n",
      " [ 0  1 11]]\n"
     ]
    }
   ],
   "source": [
    "RF = RandomForestClassifier(n_estimators=24,random_state=10)\n",
    "RF.fit(x_train,y_train)\n",
    "RF_pred = RF.predict(x_test)\n",
    "print('Accuracy Score {}%'.format(100*accuracy_score(RF_pred,y_test)))\n",
    "print('\\n Classification Report',classification_report(y_test,RF_pred))\n",
    "print('\\n Confusion Matrix',confusion_matrix(y_test,RF_pred))"
   ]
  },
  {
   "cell_type": "markdown",
   "id": "c5f77165",
   "metadata": {},
   "source": [
    "**_Fitting the Extra Tree Classifier Model with the dependent train and independent train variable and getting the algorithm,accuracy score,classification report and confusion matrix between the predicted values and dependent test dataset_**"
   ]
  },
  {
   "cell_type": "code",
   "execution_count": 16,
   "id": "ab9f8016",
   "metadata": {},
   "outputs": [
    {
     "name": "stdout",
     "output_type": "stream",
     "text": [
      "Accuracy Score 100.0%\n",
      "\n",
      " Classification Report               precision    recall  f1-score   support\n",
      "\n",
      "           1       1.00      1.00      1.00        12\n",
      "           2       1.00      1.00      1.00        12\n",
      "           3       1.00      1.00      1.00        12\n",
      "\n",
      "    accuracy                           1.00        36\n",
      "   macro avg       1.00      1.00      1.00        36\n",
      "weighted avg       1.00      1.00      1.00        36\n",
      "\n",
      "\n",
      " Confusion Matrix [[12  0  0]\n",
      " [ 0 12  0]\n",
      " [ 0  0 12]]\n"
     ]
    }
   ],
   "source": [
    "ET = ExtraTreesClassifier(n_estimators=24,random_state=10)\n",
    "ET.fit(x_train,y_train)\n",
    "ET_pred = ET.predict(x_test)\n",
    "print('Accuracy Score {}%'.format(100*accuracy_score(ET_pred,y_test)))\n",
    "print('\\n Classification Report',classification_report(y_test,ET_pred))\n",
    "print('\\n Confusion Matrix',confusion_matrix(y_test,ET_pred))"
   ]
  },
  {
   "cell_type": "markdown",
   "id": "d7943020",
   "metadata": {},
   "source": [
    "**_Fitting the CatBoost Classifier Model with the dependent train and independent train variable and getting the algorithm,accuracy score,classification report and confusion matrix between the predicted values and dependent test dataset_**"
   ]
  },
  {
   "cell_type": "code",
   "execution_count": 17,
   "id": "8e00dde8",
   "metadata": {},
   "outputs": [
    {
     "name": "stdout",
     "output_type": "stream",
     "text": [
      "Accuracy Score 100.0%\n",
      "\n",
      " Classification Report               precision    recall  f1-score   support\n",
      "\n",
      "           1       1.00      1.00      1.00        12\n",
      "           2       1.00      1.00      1.00        12\n",
      "           3       1.00      1.00      1.00        12\n",
      "\n",
      "    accuracy                           1.00        36\n",
      "   macro avg       1.00      1.00      1.00        36\n",
      "weighted avg       1.00      1.00      1.00        36\n",
      "\n",
      "\n",
      " Confusion Matrix [[12  0  0]\n",
      " [ 0 12  0]\n",
      " [ 0  0 12]]\n"
     ]
    }
   ],
   "source": [
    "cat = CatBoostClassifier(verbose=0)\n",
    "cat.fit(x_train,y_train)\n",
    "y_pred = cat.predict(x_test)\n",
    "print('Accuracy Score {}%'.format(100*accuracy_score(y_pred,y_test)))\n",
    "print('\\n Classification Report',classification_report(y_test,y_pred))\n",
    "print('\\n Confusion Matrix',confusion_matrix(y_test,y_pred))"
   ]
  },
  {
   "cell_type": "markdown",
   "id": "29fe88e2",
   "metadata": {},
   "source": [
    "**_Fitting the LightGBM Classifier Model with the dependent train and independent train variable and getting the algorithm,accuracy score,classification report and confusion matrix between the predicted values and dependent test dataset_**"
   ]
  },
  {
   "cell_type": "code",
   "execution_count": 18,
   "id": "cad828dc",
   "metadata": {},
   "outputs": [
    {
     "name": "stdout",
     "output_type": "stream",
     "text": [
      "Accuracy Score 100.0%\n",
      "\n",
      " Classification Report               precision    recall  f1-score   support\n",
      "\n",
      "           1       1.00      1.00      1.00        12\n",
      "           2       1.00      1.00      1.00        12\n",
      "           3       1.00      1.00      1.00        12\n",
      "\n",
      "    accuracy                           1.00        36\n",
      "   macro avg       1.00      1.00      1.00        36\n",
      "weighted avg       1.00      1.00      1.00        36\n",
      "\n",
      "\n",
      " Confusion Matrix [[12  0  0]\n",
      " [ 0 12  0]\n",
      " [ 0  0 12]]\n"
     ]
    }
   ],
   "source": [
    "lightgbm = LGBMClassifier()\n",
    "lightgbm.fit(x_train,y_train)\n",
    "y_pred = lightgbm.predict(x_test)\n",
    "print('Accuracy Score {}%'.format(100*accuracy_score(y_pred,y_test)))\n",
    "print('\\n Classification Report',classification_report(y_test,y_pred))\n",
    "print('\\n Confusion Matrix',confusion_matrix(y_test,y_pred))"
   ]
  },
  {
   "cell_type": "markdown",
   "id": "55ba256d",
   "metadata": {},
   "source": [
    "## Dimensional Reduction\n",
    "**_Processing the independent variable with principal component analysis to get the importance of all the columns in the independent variable and Getting the numeric value for the importance of column of the independent variable_**"
   ]
  },
  {
   "cell_type": "code",
   "execution_count": 19,
   "id": "8b9c0db7",
   "metadata": {},
   "outputs": [
    {
     "data": {
      "text/plain": [
       "array([0.36198848, 0.1920749 , 0.11123631, 0.0706903 , 0.06563294,\n",
       "       0.04935823, 0.04238679, 0.02680749, 0.02222153, 0.01930019,\n",
       "       0.01736836, 0.01298233, 0.00795215])"
      ]
     },
     "execution_count": 19,
     "metadata": {},
     "output_type": "execute_result"
    }
   ],
   "source": [
    "pca = PCA()\n",
    "pca_x = pca.fit_transform(x)\n",
    "pca.explained_variance_ratio_"
   ]
  },
  {
   "cell_type": "markdown",
   "id": "239cc0cb",
   "metadata": {},
   "source": [
    "**_Splitting the dependent and independent variable into training and test dataset using train test split of the independent variable_**"
   ]
  },
  {
   "cell_type": "code",
   "execution_count": 20,
   "id": "6503172f",
   "metadata": {},
   "outputs": [],
   "source": [
    "pca_x_train,pca_x_test,y_train,y_test = train_test_split(pca_x,y,test_size=0.2,random_state=15)"
   ]
  },
  {
   "cell_type": "markdown",
   "id": "6b175ebb",
   "metadata": {},
   "source": [
    "**_Fitting the Logistic Regression Model with the dependent train and independent train variable and getting the algorithm,accuracy score,classification report and confusion matrix between the predicted values and dependent test dataset_**"
   ]
  },
  {
   "cell_type": "code",
   "execution_count": 21,
   "id": "a0c6b840",
   "metadata": {},
   "outputs": [
    {
     "name": "stdout",
     "output_type": "stream",
     "text": [
      "Accuracy Score 100.0%\n",
      "\n",
      " Classification Report               precision    recall  f1-score   support\n",
      "\n",
      "           1       1.00      1.00      1.00        12\n",
      "           2       1.00      1.00      1.00        12\n",
      "           3       1.00      1.00      1.00        12\n",
      "\n",
      "    accuracy                           1.00        36\n",
      "   macro avg       1.00      1.00      1.00        36\n",
      "weighted avg       1.00      1.00      1.00        36\n",
      "\n",
      "\n",
      " Confusion Matrix [[12  0  0]\n",
      " [ 0 12  0]\n",
      " [ 0  0 12]]\n"
     ]
    }
   ],
   "source": [
    "LR_pca = LogisticRegression()\n",
    "LR_pca.fit(pca_x_train,y_train)\n",
    "y_pred = LR_pca.predict(pca_x_test)\n",
    "print('Accuracy Score {}%'.format(100*accuracy_score(y_pred,y_test)))\n",
    "print('\\n Classification Report',classification_report(y_test,y_pred))\n",
    "print('\\n Confusion Matrix',confusion_matrix(y_test,y_pred))"
   ]
  },
  {
   "cell_type": "markdown",
   "id": "118859e9",
   "metadata": {},
   "source": [
    "**_Fitting the Random Forest Classifier Model with the dependent train and independent train variable and getting the algorithm,accuracy score,classification report and confusion matrix between the predicted values and dependent test dataset_**"
   ]
  },
  {
   "cell_type": "code",
   "execution_count": 22,
   "id": "5c677261",
   "metadata": {
    "scrolled": true
   },
   "outputs": [
    {
     "name": "stdout",
     "output_type": "stream",
     "text": [
      "Accuracy Score 97.22222222222221%\n",
      "\n",
      " Classification Report               precision    recall  f1-score   support\n",
      "\n",
      "           1       0.92      1.00      0.96        12\n",
      "           2       1.00      0.92      0.96        12\n",
      "           3       1.00      1.00      1.00        12\n",
      "\n",
      "    accuracy                           0.97        36\n",
      "   macro avg       0.97      0.97      0.97        36\n",
      "weighted avg       0.97      0.97      0.97        36\n",
      "\n",
      "\n",
      " Confusion Matrix [[12  0  0]\n",
      " [ 1 11  0]\n",
      " [ 0  0 12]]\n"
     ]
    }
   ],
   "source": [
    "RF_pca = RandomForestClassifier(n_estimators=24,random_state=10)\n",
    "RF_pca.fit(pca_x_train,y_train)\n",
    "RF_pred = RF_pca.predict(pca_x_test)\n",
    "print('Accuracy Score {}%'.format(100*accuracy_score(RF_pred,y_test)))\n",
    "print('\\n Classification Report',classification_report(y_test,RF_pred))\n",
    "print('\\n Confusion Matrix',confusion_matrix(y_test,RF_pred))"
   ]
  },
  {
   "cell_type": "markdown",
   "id": "d4e3d77f",
   "metadata": {},
   "source": [
    "**_Fitting the Extra Tree Classifer Model with the dependent train and independent train variable and getting the algorithm,accuracy score,classification report and confusion matrix between the predicted values and dependent test dataset_**"
   ]
  },
  {
   "cell_type": "code",
   "execution_count": 23,
   "id": "1ca9de43",
   "metadata": {},
   "outputs": [
    {
     "name": "stdout",
     "output_type": "stream",
     "text": [
      "Accuracy Score 100.0%\n",
      "\n",
      " Classification Report               precision    recall  f1-score   support\n",
      "\n",
      "           1       1.00      1.00      1.00        12\n",
      "           2       1.00      1.00      1.00        12\n",
      "           3       1.00      1.00      1.00        12\n",
      "\n",
      "    accuracy                           1.00        36\n",
      "   macro avg       1.00      1.00      1.00        36\n",
      "weighted avg       1.00      1.00      1.00        36\n",
      "\n",
      "\n",
      " Confusion Matrix [[12  0  0]\n",
      " [ 0 12  0]\n",
      " [ 0  0 12]]\n"
     ]
    }
   ],
   "source": [
    "ET_pca = ExtraTreesClassifier(n_estimators=24,random_state=10)\n",
    "ET_pca.fit(pca_x_train,y_train)\n",
    "ET_pred = ET_pca.predict(pca_x_test)\n",
    "print('Accuracy Score {}%'.format(100*accuracy_score(ET_pred,y_test)))\n",
    "print('\\n Classification Report',classification_report(y_test,ET_pred))\n",
    "print('\\n Confusion Matrix',confusion_matrix(y_test,ET_pred))"
   ]
  },
  {
   "cell_type": "markdown",
   "id": "8c391397",
   "metadata": {},
   "source": [
    "**_Fitting the Cat Boost Classifier Model with the dependent train and independent train variable and getting the algorithm,accuracy score,classification report and confusion matrix between the predicted values and dependent test dataset_**"
   ]
  },
  {
   "cell_type": "code",
   "execution_count": 24,
   "id": "39ca106c",
   "metadata": {},
   "outputs": [
    {
     "name": "stdout",
     "output_type": "stream",
     "text": [
      "Accuracy Score 97.22222222222221%\n",
      "\n",
      " Classification Report               precision    recall  f1-score   support\n",
      "\n",
      "           1       0.92      1.00      0.96        12\n",
      "           2       1.00      0.92      0.96        12\n",
      "           3       1.00      1.00      1.00        12\n",
      "\n",
      "    accuracy                           0.97        36\n",
      "   macro avg       0.97      0.97      0.97        36\n",
      "weighted avg       0.97      0.97      0.97        36\n",
      "\n",
      "\n",
      " Confusion Matrix [[12  0  0]\n",
      " [ 1 11  0]\n",
      " [ 0  0 12]]\n"
     ]
    }
   ],
   "source": [
    "cat_pca = CatBoostClassifier(verbose=0)\n",
    "cat_pca.fit(pca_x_train,y_train)\n",
    "y_pred = cat_pca.predict(pca_x_test)\n",
    "print('Accuracy Score {}%'.format(100*accuracy_score(y_pred,y_test)))\n",
    "print('\\n Classification Report',classification_report(y_test,y_pred))\n",
    "print('\\n Confusion Matrix',confusion_matrix(y_test,y_pred))"
   ]
  },
  {
   "cell_type": "markdown",
   "id": "711c298a",
   "metadata": {},
   "source": [
    "**_Fitting the LightGBM Classifier Model with the dependent train and independent train variable and getting the algorithm,accuracy score,classification report and confusion matrix between the predicted values and dependent test dataset_**"
   ]
  },
  {
   "cell_type": "code",
   "execution_count": 25,
   "id": "b740188c",
   "metadata": {},
   "outputs": [
    {
     "name": "stdout",
     "output_type": "stream",
     "text": [
      "Accuracy Score 94.44444444444444%\n",
      "\n",
      " Classification Report               precision    recall  f1-score   support\n",
      "\n",
      "           1       0.92      1.00      0.96        12\n",
      "           2       0.92      0.92      0.92        12\n",
      "           3       1.00      0.92      0.96        12\n",
      "\n",
      "    accuracy                           0.94        36\n",
      "   macro avg       0.95      0.94      0.94        36\n",
      "weighted avg       0.95      0.94      0.94        36\n",
      "\n",
      "\n",
      " Confusion Matrix [[12  0  0]\n",
      " [ 1 11  0]\n",
      " [ 0  1 11]]\n"
     ]
    }
   ],
   "source": [
    "lightgbm_pca = LGBMClassifier()\n",
    "lightgbm_pca.fit(pca_x_train,y_train)\n",
    "y_pred = lightgbm_pca.predict(pca_x_test)\n",
    "print('Accuracy Score {}%'.format(100*accuracy_score(y_pred,y_test)))\n",
    "print('\\n Classification Report',classification_report(y_test,y_pred))\n",
    "print('\\n Confusion Matrix',confusion_matrix(y_test,y_pred))"
   ]
  },
  {
   "cell_type": "markdown",
   "id": "c7bbdd82",
   "metadata": {},
   "source": [
    "**_Processing the independent variable with principal component analysis of 2 components to get the importance of all the columns in the independent variable and Getting the numeric value for the importance of column of the independent variable after reducing its dimension_**"
   ]
  },
  {
   "cell_type": "code",
   "execution_count": 26,
   "id": "9ca77c0b",
   "metadata": {},
   "outputs": [
    {
     "data": {
      "text/plain": [
       "array([0.36198848, 0.1920749 ])"
      ]
     },
     "execution_count": 26,
     "metadata": {},
     "output_type": "execute_result"
    }
   ],
   "source": [
    "pca1 = PCA(n_components=2)\n",
    "pca_x1 = pca1.fit_transform(x)\n",
    "pca1.explained_variance_ratio_"
   ]
  },
  {
   "cell_type": "markdown",
   "id": "b6585602",
   "metadata": {},
   "source": [
    "**_Splitting the dependent and independent variable into training and test dataset using train test split after reducing its dimension of the independent variable_**"
   ]
  },
  {
   "cell_type": "code",
   "execution_count": 27,
   "id": "d45d4417",
   "metadata": {},
   "outputs": [],
   "source": [
    "pca_x_train1,pca_x_test1,y_train,y_test = train_test_split(pca_x1,y,test_size=0.2,random_state=15)"
   ]
  },
  {
   "cell_type": "markdown",
   "id": "46142ec6",
   "metadata": {},
   "source": [
    "**_Fitting the Logistic Regression Model with the dependent train and independent train variable and getting the algorithm,accuracy score,classification report and confusion matrix between the predicted values and dependent test dataset after, reducing the dimensions of the independent variable_**"
   ]
  },
  {
   "cell_type": "code",
   "execution_count": 28,
   "id": "9806199f",
   "metadata": {},
   "outputs": [
    {
     "name": "stdout",
     "output_type": "stream",
     "text": [
      "Accuracy Score 97.22222222222221%\n",
      "\n",
      " Classification Report               precision    recall  f1-score   support\n",
      "\n",
      "           1       0.92      1.00      0.96        12\n",
      "           2       1.00      0.92      0.96        12\n",
      "           3       1.00      1.00      1.00        12\n",
      "\n",
      "    accuracy                           0.97        36\n",
      "   macro avg       0.97      0.97      0.97        36\n",
      "weighted avg       0.97      0.97      0.97        36\n",
      "\n",
      "\n",
      " Confusion Matrix [[12  0  0]\n",
      " [ 1 11  0]\n",
      " [ 0  0 12]]\n"
     ]
    }
   ],
   "source": [
    "LR_pca1 = LogisticRegression()\n",
    "LR_pca1.fit(pca_x_train1,y_train)\n",
    "y_pred = LR_pca1.predict(pca_x_test1)\n",
    "print('Accuracy Score {}%'.format(100*accuracy_score(y_pred,y_test)))\n",
    "print('\\n Classification Report',classification_report(y_test,y_pred))\n",
    "print('\\n Confusion Matrix',confusion_matrix(y_test,y_pred))"
   ]
  },
  {
   "cell_type": "markdown",
   "id": "97b50fc3",
   "metadata": {},
   "source": [
    "**_Fitting the Random Forest Classifier Model with the dependent train and independent train variable and getting the algorithm,accuracy score,classification report and confusion matrix between the predicted values and dependent test dataset after, reducing the dimensions of the independent variable_**"
   ]
  },
  {
   "cell_type": "code",
   "execution_count": 29,
   "id": "a4518bec",
   "metadata": {},
   "outputs": [
    {
     "name": "stdout",
     "output_type": "stream",
     "text": [
      "Accuracy Score 91.66666666666666%\n",
      "\n",
      " Classification Report               precision    recall  f1-score   support\n",
      "\n",
      "           1       0.86      1.00      0.92        12\n",
      "           2       0.91      0.83      0.87        12\n",
      "           3       1.00      0.92      0.96        12\n",
      "\n",
      "    accuracy                           0.92        36\n",
      "   macro avg       0.92      0.92      0.92        36\n",
      "weighted avg       0.92      0.92      0.92        36\n",
      "\n",
      "\n",
      " Confusion Matrix [[12  0  0]\n",
      " [ 2 10  0]\n",
      " [ 0  1 11]]\n"
     ]
    }
   ],
   "source": [
    "RF_pca1 = RandomForestClassifier(n_estimators=24,random_state=10)\n",
    "RF_pca1.fit(pca_x_train1,y_train)\n",
    "RF_pred = RF_pca1.predict(pca_x_test1)\n",
    "print('Accuracy Score {}%'.format(100*accuracy_score(RF_pred,y_test)))\n",
    "print('\\n Classification Report',classification_report(y_test,RF_pred))\n",
    "print('\\n Confusion Matrix',confusion_matrix(y_test,RF_pred))"
   ]
  },
  {
   "cell_type": "markdown",
   "id": "ea9ef387",
   "metadata": {},
   "source": [
    "**_Fitting the Extra Tree Classifier Model with the dependent train and independent train variable and getting the algorithm,accuracy score,classification report and confusion matrix between the predicted values and dependent test dataset after, reducing the dimensions of the independent variable_**"
   ]
  },
  {
   "cell_type": "code",
   "execution_count": 30,
   "id": "d02a5cb0",
   "metadata": {},
   "outputs": [
    {
     "name": "stdout",
     "output_type": "stream",
     "text": [
      "Accuracy Score 91.66666666666666%\n",
      "\n",
      " Classification Report               precision    recall  f1-score   support\n",
      "\n",
      "           1       0.86      1.00      0.92        12\n",
      "           2       0.91      0.83      0.87        12\n",
      "           3       1.00      0.92      0.96        12\n",
      "\n",
      "    accuracy                           0.92        36\n",
      "   macro avg       0.92      0.92      0.92        36\n",
      "weighted avg       0.92      0.92      0.92        36\n",
      "\n",
      "\n",
      " Confusion Matrix [[12  0  0]\n",
      " [ 2 10  0]\n",
      " [ 0  1 11]]\n"
     ]
    }
   ],
   "source": [
    "ET_pca1 = ExtraTreesClassifier(n_estimators=24,random_state=10)\n",
    "ET_pca1.fit(pca_x_train1,y_train)\n",
    "ET_pred = ET_pca1.predict(pca_x_test1)\n",
    "print('Accuracy Score {}%'.format(100*accuracy_score(ET_pred,y_test)))\n",
    "print('\\n Classification Report',classification_report(y_test,ET_pred))\n",
    "print('\\n Confusion Matrix',confusion_matrix(y_test,ET_pred))"
   ]
  },
  {
   "cell_type": "markdown",
   "id": "1525fc45",
   "metadata": {},
   "source": [
    "**_Fitting the Cat Boost Classifier Model with the dependent train and independent train variable and getting the algorithm,accuracy score,classification report and confusion matrix between the predicted values and dependent test dataset after, reducing the dimensions of the independent variable_**"
   ]
  },
  {
   "cell_type": "code",
   "execution_count": 31,
   "id": "c00c1076",
   "metadata": {},
   "outputs": [
    {
     "name": "stdout",
     "output_type": "stream",
     "text": [
      "Accuracy Score 88.88888888888889%\n",
      "\n",
      " Classification Report               precision    recall  f1-score   support\n",
      "\n",
      "           1       0.86      1.00      0.92        12\n",
      "           2       0.83      0.83      0.83        12\n",
      "           3       1.00      0.83      0.91        12\n",
      "\n",
      "    accuracy                           0.89        36\n",
      "   macro avg       0.90      0.89      0.89        36\n",
      "weighted avg       0.90      0.89      0.89        36\n",
      "\n",
      "\n",
      " Confusion Matrix [[12  0  0]\n",
      " [ 2 10  0]\n",
      " [ 0  2 10]]\n"
     ]
    }
   ],
   "source": [
    "cat_pca1 = CatBoostClassifier(verbose=0)\n",
    "cat_pca1.fit(pca_x_train1,y_train)\n",
    "y_pred = cat_pca1.predict(pca_x_test1)\n",
    "print('Accuracy Score {}%'.format(100*accuracy_score(y_pred,y_test)))\n",
    "print('\\n Classification Report',classification_report(y_test,y_pred))\n",
    "print('\\n Confusion Matrix',confusion_matrix(y_test,y_pred))"
   ]
  },
  {
   "cell_type": "markdown",
   "id": "94d59ffd",
   "metadata": {},
   "source": [
    "**_Fitting the LightGBM Classifier Model with the dependent train and independent train variable and getting the algorithm,accuracy score,classification report and confusion matrix between the predicted values and dependent test dataset after, reducing the dimensions of the independent variable_**"
   ]
  },
  {
   "cell_type": "code",
   "execution_count": 32,
   "id": "a0f3791f",
   "metadata": {
    "scrolled": true
   },
   "outputs": [
    {
     "name": "stdout",
     "output_type": "stream",
     "text": [
      "Accuracy Score 88.88888888888889%\n",
      "\n",
      " Classification Report               precision    recall  f1-score   support\n",
      "\n",
      "           1       0.86      1.00      0.92        12\n",
      "           2       0.83      0.83      0.83        12\n",
      "           3       1.00      0.83      0.91        12\n",
      "\n",
      "    accuracy                           0.89        36\n",
      "   macro avg       0.90      0.89      0.89        36\n",
      "weighted avg       0.90      0.89      0.89        36\n",
      "\n",
      "\n",
      " Confusion Matrix [[12  0  0]\n",
      " [ 2 10  0]\n",
      " [ 0  2 10]]\n"
     ]
    }
   ],
   "source": [
    "lightgbm_pca1 = LGBMClassifier()\n",
    "lightgbm_pca1.fit(pca_x_train1,y_train)\n",
    "y_pred = lightgbm_pca1.predict(pca_x_test1)\n",
    "print('Accuracy Score {}%'.format(100*accuracy_score(y_pred,y_test)))\n",
    "print('\\n Classification Report',classification_report(y_test,y_pred))\n",
    "print('\\n Confusion Matrix',confusion_matrix(y_test,y_pred))"
   ]
  },
  {
   "cell_type": "markdown",
   "id": "1ccdd6dc",
   "metadata": {},
   "source": [
    "**_For reducing the dimension of the independent variable using linear discriminant anlaysis processing both independent variabale and dependent variable and displaying the numeric value for the importance of column of the independent variable after reducing its dimension_**"
   ]
  },
  {
   "cell_type": "code",
   "execution_count": 33,
   "id": "7a3629a0",
   "metadata": {},
   "outputs": [
    {
     "data": {
      "text/plain": [
       "array([0.68747889, 0.31252111])"
      ]
     },
     "execution_count": 33,
     "metadata": {},
     "output_type": "execute_result"
    }
   ],
   "source": [
    "lda = LDA()\n",
    "lda_x = lda.fit_transform(x,y)\n",
    "lda.explained_variance_ratio_"
   ]
  },
  {
   "cell_type": "markdown",
   "id": "fd34fa22",
   "metadata": {},
   "source": [
    "**_Splitting the dependent and independent variable into training and test dataset using train test split after reducing its dimension of the independent variable_**"
   ]
  },
  {
   "cell_type": "code",
   "execution_count": 34,
   "id": "f6ef658a",
   "metadata": {},
   "outputs": [],
   "source": [
    "lda_x_train,lda_x_test,y_train,y_test = train_test_split(lda_x,y,test_size=0.2,random_state=15)"
   ]
  },
  {
   "cell_type": "markdown",
   "id": "e3e2ba22",
   "metadata": {},
   "source": [
    "**_Fitting the Logistic Regression Model with the dependent train and independent train variable and getting the algorithm,accuracy score,classification report and confusion matrix between the predicted values and dependent test dataset after, reducing the dimensions of the independent variable_**"
   ]
  },
  {
   "cell_type": "code",
   "execution_count": 35,
   "id": "5e505d60",
   "metadata": {},
   "outputs": [
    {
     "name": "stdout",
     "output_type": "stream",
     "text": [
      "Accuracy Score 100.0%\n",
      "\n",
      " Classification Report               precision    recall  f1-score   support\n",
      "\n",
      "           1       1.00      1.00      1.00        12\n",
      "           2       1.00      1.00      1.00        12\n",
      "           3       1.00      1.00      1.00        12\n",
      "\n",
      "    accuracy                           1.00        36\n",
      "   macro avg       1.00      1.00      1.00        36\n",
      "weighted avg       1.00      1.00      1.00        36\n",
      "\n",
      "\n",
      " Confusion Matrix [[12  0  0]\n",
      " [ 0 12  0]\n",
      " [ 0  0 12]]\n"
     ]
    }
   ],
   "source": [
    "LR_lda = LogisticRegression()\n",
    "LR_lda.fit(lda_x_train,y_train)\n",
    "y_pred = LR_lda.predict(lda_x_test)\n",
    "print('Accuracy Score {}%'.format(100*accuracy_score(y_pred,y_test)))\n",
    "print('\\n Classification Report',classification_report(y_test,y_pred))\n",
    "print('\\n Confusion Matrix',confusion_matrix(y_test,y_pred))"
   ]
  },
  {
   "cell_type": "markdown",
   "id": "58a9d823",
   "metadata": {},
   "source": [
    "**_Fitting the Random Forest Classifier Model with the dependent train and independent train variable and getting the algorithm,accuracy score,classification report and confusion matrix between the predicted values and dependent test dataset after, reducing the dimensions of the independent variable_**"
   ]
  },
  {
   "cell_type": "code",
   "execution_count": 36,
   "id": "f745b68d",
   "metadata": {},
   "outputs": [
    {
     "name": "stdout",
     "output_type": "stream",
     "text": [
      "Accuracy Score 100.0%\n",
      "\n",
      " Classification Report               precision    recall  f1-score   support\n",
      "\n",
      "           1       1.00      1.00      1.00        12\n",
      "           2       1.00      1.00      1.00        12\n",
      "           3       1.00      1.00      1.00        12\n",
      "\n",
      "    accuracy                           1.00        36\n",
      "   macro avg       1.00      1.00      1.00        36\n",
      "weighted avg       1.00      1.00      1.00        36\n",
      "\n",
      "\n",
      " Confusion Matrix [[12  0  0]\n",
      " [ 0 12  0]\n",
      " [ 0  0 12]]\n"
     ]
    }
   ],
   "source": [
    "RF_lda = RandomForestClassifier(n_estimators=24,random_state=10)\n",
    "RF_lda.fit(lda_x_train,y_train)\n",
    "y_pred = RF_lda.predict(lda_x_test)\n",
    "print('Accuracy Score {}%'.format(100*accuracy_score(y_pred,y_test)))\n",
    "print('\\n Classification Report',classification_report(y_test,y_pred))\n",
    "print('\\n Confusion Matrix',confusion_matrix(y_test,y_pred))"
   ]
  },
  {
   "cell_type": "markdown",
   "id": "317c7d10",
   "metadata": {},
   "source": [
    "**_Fitting the Extra Tree Classifier Model with the dependent train and independent train variable and getting the algorithm,accuracy score,classification report and confusion matrix between the predicted values and dependent test dataset after, reducing the dimensions of the independent variable_**"
   ]
  },
  {
   "cell_type": "code",
   "execution_count": 37,
   "id": "c452a6da",
   "metadata": {},
   "outputs": [
    {
     "name": "stdout",
     "output_type": "stream",
     "text": [
      "Accuracy Score 100.0%\n",
      "\n",
      " Classification Report               precision    recall  f1-score   support\n",
      "\n",
      "           1       1.00      1.00      1.00        12\n",
      "           2       1.00      1.00      1.00        12\n",
      "           3       1.00      1.00      1.00        12\n",
      "\n",
      "    accuracy                           1.00        36\n",
      "   macro avg       1.00      1.00      1.00        36\n",
      "weighted avg       1.00      1.00      1.00        36\n",
      "\n",
      "\n",
      " Confusion Matrix [[12  0  0]\n",
      " [ 0 12  0]\n",
      " [ 0  0 12]]\n"
     ]
    }
   ],
   "source": [
    "ET_lda = ExtraTreesClassifier(n_estimators=24,random_state=10)\n",
    "ET_lda.fit(lda_x_train,y_train)\n",
    "y_pred = ET_lda.predict(lda_x_test)\n",
    "print('Accuracy Score {}%'.format(100*accuracy_score(y_pred,y_test)))\n",
    "print('\\n Classification Report',classification_report(y_test,y_pred))\n",
    "print('\\n Confusion Matrix',confusion_matrix(y_test,y_pred))"
   ]
  },
  {
   "cell_type": "markdown",
   "id": "5938c5ca",
   "metadata": {},
   "source": [
    "**_Fitting the Cat Boost Classifier Model with the dependent train and independent train variable and getting the algorithm,accuracy score,classification report and confusion matrix between the predicted values and dependent test dataset after, reducing the dimensions of the independent variable_**"
   ]
  },
  {
   "cell_type": "code",
   "execution_count": 38,
   "id": "2ed7d3d6",
   "metadata": {},
   "outputs": [
    {
     "name": "stdout",
     "output_type": "stream",
     "text": [
      "Accuracy Score 100.0%\n",
      "\n",
      " Classification Report               precision    recall  f1-score   support\n",
      "\n",
      "           1       1.00      1.00      1.00        12\n",
      "           2       1.00      1.00      1.00        12\n",
      "           3       1.00      1.00      1.00        12\n",
      "\n",
      "    accuracy                           1.00        36\n",
      "   macro avg       1.00      1.00      1.00        36\n",
      "weighted avg       1.00      1.00      1.00        36\n",
      "\n",
      "\n",
      " Confusion Matrix [[12  0  0]\n",
      " [ 0 12  0]\n",
      " [ 0  0 12]]\n"
     ]
    }
   ],
   "source": [
    "cat_lda = CatBoostClassifier(verbose=0)\n",
    "cat_lda.fit(lda_x_train,y_train)\n",
    "y_pred = cat_lda.predict(lda_x_test)\n",
    "print('Accuracy Score {}%'.format(100*accuracy_score(y_pred,y_test)))\n",
    "print('\\n Classification Report',classification_report(y_test,y_pred))\n",
    "print('\\n Confusion Matrix',confusion_matrix(y_test,y_pred))"
   ]
  },
  {
   "cell_type": "markdown",
   "id": "b3685d3b",
   "metadata": {},
   "source": [
    "**_Fitting the LightGBM Classifier Model with the dependent train and independent train variable and getting the algorithm,accuracy score,classification report and confusion matrix between the predicted values and dependent test dataset after, reducing the dimensions of the independent variable_**"
   ]
  },
  {
   "cell_type": "code",
   "execution_count": 39,
   "id": "2a0cde82",
   "metadata": {
    "scrolled": true
   },
   "outputs": [
    {
     "name": "stdout",
     "output_type": "stream",
     "text": [
      "Accuracy Score 94.44444444444444%\n",
      "\n",
      " Classification Report               precision    recall  f1-score   support\n",
      "\n",
      "           1       0.92      1.00      0.96        12\n",
      "           2       0.92      0.92      0.92        12\n",
      "           3       1.00      0.92      0.96        12\n",
      "\n",
      "    accuracy                           0.94        36\n",
      "   macro avg       0.95      0.94      0.94        36\n",
      "weighted avg       0.95      0.94      0.94        36\n",
      "\n",
      "\n",
      " Confusion Matrix [[12  0  0]\n",
      " [ 1 11  0]\n",
      " [ 0  1 11]]\n"
     ]
    }
   ],
   "source": [
    "lightgbm_lda = LGBMClassifier()\n",
    "lightgbm_lda.fit(lda_x_train,y_train)\n",
    "y_pred = lightgbm_lda.predict(lda_x_test)\n",
    "print('Accuracy Score {}%'.format(100*accuracy_score(y_pred,y_test)))\n",
    "print('\\n Classification Report',classification_report(y_test,y_pred))\n",
    "print('\\n Confusion Matrix',confusion_matrix(y_test,y_pred))"
   ]
  },
  {
   "cell_type": "markdown",
   "id": "68222bcb",
   "metadata": {},
   "source": [
    "**_Create the Pickle Files of the models with the highest accuracy score with the model names_**"
   ]
  },
  {
   "cell_type": "code",
   "execution_count": 40,
   "id": "18b5f8d2",
   "metadata": {},
   "outputs": [],
   "source": [
    "pickle.dump(LR_lda,open('Logistic Regression.pkl','wb'))\n",
    "pickle.dump(RF_lda,open('Random Forest Classifier.pkl','wb'))\n",
    "pickle.dump(ET_lda,open('Extra Tree Classifier.pkl','wb'))\n",
    "pickle.dump(cat_lda,open('CatBoostClassifier.pkl','wb'))"
   ]
  }
 ],
 "metadata": {
  "kernelspec": {
   "display_name": "Python 3 (ipykernel)",
   "language": "python",
   "name": "python3"
  },
  "language_info": {
   "codemirror_mode": {
    "name": "ipython",
    "version": 3
   },
   "file_extension": ".py",
   "mimetype": "text/x-python",
   "name": "python",
   "nbconvert_exporter": "python",
   "pygments_lexer": "ipython3",
   "version": "3.9.13"
  }
 },
 "nbformat": 4,
 "nbformat_minor": 5
}
